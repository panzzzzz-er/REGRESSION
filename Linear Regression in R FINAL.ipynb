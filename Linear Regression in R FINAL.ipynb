{
 "cells": [
  {
   "cell_type": "code",
   "execution_count": 1,
   "id": "ebec44c8",
   "metadata": {},
   "outputs": [
    {
     "name": "stdout",
     "output_type": "stream",
     "text": [
      " [1] 0 1 2 3 4 5 6 7 8 9\n",
      " [1]  1  3  2  5  7  8  8  9 10 12\n",
      "[1] 10\n"
     ]
    }
   ],
   "source": [
    "x = c(0, 1, 2, 3, 4, 5, 6, 7, 8, 9)\n",
    "y = c(1, 3, 2, 5, 7, 8, 8, 9, 10, 12)\n",
    "\n",
    "print(x)  \n",
    "print(y)\n",
    "\n",
    "N = length(x)\n",
    "print(N)"
   ]
  },
  {
   "cell_type": "code",
   "execution_count": 2,
   "id": "7415162b",
   "metadata": {},
   "outputs": [
    {
     "name": "stdout",
     "output_type": "stream",
     "text": [
      "[1] 4.5\n",
      "[1] 6.5\n"
     ]
    }
   ],
   "source": [
    "x_avg = mean(x)\n",
    "y_avg = mean(y)\n",
    "\n",
    "print(x_avg)\n",
    "print(y_avg)"
   ]
  },
  {
   "cell_type": "code",
   "execution_count": 14,
   "id": "13fd1481",
   "metadata": {},
   "outputs": [
    {
     "name": "stdout",
     "output_type": "stream",
     "text": [
      "[1] \"B1=\"\n",
      "[1] 1.169697\n",
      "[1] \"B0=\"\n",
      "[1] 1.236364\n"
     ]
    }
   ],
   "source": [
    "snum = 0\n",
    "sden = 0\n",
    "b1_num = 0\n",
    "b1_den = 0\n",
    "\n",
    "B1_num = sum(((x - x_avg) * (y - y_avg)))\n",
    "B1_den = sum(((x - x_avg)**2))\n",
    "\n",
    "B1 = B1_num / B1_den \n",
    "print(\"B1=\")\n",
    "print(B1)\n",
    "\n",
    "B0 = y_avg - (B1*x_avg)\n",
    "print(\"B0=\")\n",
    "print(B0)"
   ]
  },
  {
   "cell_type": "code",
   "execution_count": 15,
   "id": "13b9c54b",
   "metadata": {},
   "outputs": [
    {
     "name": "stdout",
     "output_type": "stream",
     "text": [
      "[1] \"RSS=\"\n",
      "[1] 0.05586777\n"
     ]
    }
   ],
   "source": [
    "RSS = 0\n",
    "for (i in 1:N){\n",
    "    y_pred = B0 + x[i]*B1\n",
    "}    \n",
    "\n",
    "RSS = (y[i] - y_pred)*(y[i] - y_pred)\n",
    "print(\"RSS=\")\n",
    "print(RSS)"
   ]
  },
  {
   "cell_type": "code",
   "execution_count": 16,
   "id": "c32ab8ae",
   "metadata": {},
   "outputs": [
    {
     "name": "stdout",
     "output_type": "stream",
     "text": [
      "[1] \"R=\"\n",
      "[1] 0.9759806\n"
     ]
    }
   ],
   "source": [
    "sxy = sum(x*y)\n",
    "sx = sum(x)\n",
    "sy = sum(y)\n",
    "sxx = sum(x*x)\n",
    "syy = sum(y*y)\n",
    "\n",
    "rnum = (N * sxy) - (sx * sy)\n",
    "rden = sqrt((N * sxx - (sx ** 2)) * (N * syy - (sy ** 2)))\n",
    "\n",
    "R = rnum / rden\n",
    "\n",
    "print(\"R=\")\n",
    "print(R)"
   ]
  },
  {
   "cell_type": "code",
   "execution_count": 17,
   "id": "9faae653",
   "metadata": {},
   "outputs": [
    {
     "name": "stdout",
     "output_type": "stream",
     "text": [
      "[1] \"RMSE=\"\n",
      "[1] 0.07474474\n"
     ]
    }
   ],
   "source": [
    "RMSE = sqrt(RSS/N)\n",
    "\n",
    "print(\"RMSE=\")\n",
    "print(RMSE)"
   ]
  },
  {
   "cell_type": "code",
   "execution_count": 18,
   "id": "90765571",
   "metadata": {},
   "outputs": [
    {
     "name": "stdout",
     "output_type": "stream",
     "text": [
      "[1] \"For x=10, y_pred=\"\n",
      "[1] 12.93333\n"
     ]
    }
   ],
   "source": [
    "x_in = 10\n",
    "y_pred = B0 + B1*x_in\n",
    "\n",
    "print(\"For x=10, y_pred=\")\n",
    "print(y_pred)"
   ]
  },
  {
   "cell_type": "code",
   "execution_count": 21,
   "id": "aa5bd081",
   "metadata": {},
   "outputs": [
    {
     "data": {
      "image/png": "[encoded data removed]",
      "text/plain": [
       "plot without title"
      ]
     },
     "metadata": {},
     "output_type": "display_data"
    }
   ],
   "source": [
    "plot(x, y)"
   ]
  },
  {
   "cell_type": "code",
   "execution_count": null,
   "id": "9b74d719",
   "metadata": {},
   "outputs": [],
   "source": []
  }
 ],
 "metadata": {
  "kernelspec": {
   "display_name": "R",
   "language": "R",
   "name": "ir"
  },
  "language_info": {
   "codemirror_mode": "r",
   "file_extension": ".r",
   "mimetype": "text/x-r-source",
   "name": "R",
   "pygments_lexer": "r",
   "version": "3.6.1"
  }
 },
 "nbformat": 4,
 "nbformat_minor": 5
}
